{
 "cells": [
  {
   "cell_type": "markdown",
   "source": [
    "#### Завдання.\n",
    "### Проведіть класифікацію на основі датасету UCI ML Breast Cancer Wisconsin, використовуючи моделі бустингу, беггінгу та стекингу. Змініть їх такими параметрами:\n",
    "* у **StackingClassifier** як базові алгоритми встановіть **LogisticRegression** та **DecisionTreeClassifier**,\n",
    "як фінальну модель - **SVC** (Support Vector Classification.);\n",
    "* у **BaggingClassifier** як базовий алгоритм встановіть **DecisionTreeClassifier**;\n",
    "* у **AdaBoostClassifier** як базовий алгоритм встановіть **LogisticRegression**;\n",
    "* у **XGBClassifier** як базовий алгоритм (booster) встановіть **'gbtree'**.\n",
    "\n",
    "### У зведеній таблиці порівняйте результати наведених у коді класифікацій із класифікаціями, що отримані вами."
   ],
   "metadata": {
    "collapsed": false
   }
  },
  {
   "cell_type": "markdown",
   "source": [
    "\n",
    "#### StackingClassifier:"
   ],
   "metadata": {
    "collapsed": false
   }
  },
  {
   "cell_type": "code",
   "execution_count": 4,
   "outputs": [
    {
     "name": "stdout",
     "output_type": "stream",
     "text": [
      "--- StackingClassifier ---\n",
      "Mean forecast accuracy: 0.95\n"
     ]
    }
   ],
   "source": [
    "from sklearn.datasets import load_breast_cancer\n",
    "from sklearn.model_selection import train_test_split\n",
    "from sklearn.ensemble import StackingClassifier\n",
    "from sklearn.tree import DecisionTreeClassifier\n",
    "from sklearn.linear_model import LogisticRegression\n",
    "from sklearn.svm import SVC\n",
    "\n",
    "\n",
    "data, target = load_breast_cancer(return_X_y=True)\n",
    "\n",
    "X_train, X_valid, y_train, y_valid = train_test_split(data, target, test_size=0.3, random_state=100)\n",
    "\n",
    "estimators = [('lgr', LogisticRegression(max_iter=3000)), ('dtc', DecisionTreeClassifier(max_depth=5))]\n",
    "modelClf_1 = StackingClassifier(estimators=estimators, final_estimator=SVC())\n",
    "modelClf_1.fit(X_train, y_train)\n",
    "modelScore_1 = modelClf_1.score(X_valid, y_valid)\n",
    "\n",
    "print('--- StackingClassifier ---')\n",
    "print(f'Mean forecast accuracy: {modelScore_1:.2f}')\n"
   ],
   "metadata": {
    "collapsed": false
   }
  },
  {
   "cell_type": "markdown",
   "source": [
    " #### BaggingClassifier:"
   ],
   "metadata": {
    "collapsed": false
   }
  },
  {
   "cell_type": "code",
   "execution_count": 5,
   "outputs": [
    {
     "name": "stdout",
     "output_type": "stream",
     "text": [
      "--- BaggingClassifier ---\n",
      "Mean forecast accuracy: 0.96\n"
     ]
    }
   ],
   "source": [
    "from sklearn.ensemble import BaggingClassifier\n",
    "\n",
    "\n",
    "modelClf_2 = BaggingClassifier(estimator=DecisionTreeClassifier(), n_estimators=20, random_state=100)\n",
    "modelClf_2.fit(X_train, y_train)\n",
    "modelScore_2 = modelClf_2.score(X_valid, y_valid)\n",
    "\n",
    "print('--- BaggingClassifier ---')\n",
    "print(f'Mean forecast accuracy: {modelScore_2:.2f}')\n"
   ],
   "metadata": {
    "collapsed": false
   }
  },
  {
   "cell_type": "markdown",
   "source": [
    " #### AdaBoostClassifier:"
   ],
   "metadata": {
    "collapsed": false
   }
  },
  {
   "cell_type": "code",
   "execution_count": 8,
   "outputs": [
    {
     "name": "stdout",
     "output_type": "stream",
     "text": [
      "--- AdaBoostClassifier ---\n",
      "Mean forecast accuracy: 0.95\n"
     ]
    }
   ],
   "source": [
    "from sklearn.ensemble import AdaBoostClassifier\n",
    "\n",
    "\n",
    "modelClf_3 = AdaBoostClassifier(estimator=LogisticRegression(max_iter=3000),\n",
    "                                n_estimators=20, learning_rate=0.3, random_state=100)\n",
    "modelClf_3.fit(X_train, y_train)\n",
    "modelScore_3 = modelClf_3.score(X_valid, y_valid)\n",
    "\n",
    "print('--- AdaBoostClassifier ---')\n",
    "print(f'Mean forecast accuracy: {modelScore_3:.2f}')\n"
   ],
   "metadata": {
    "collapsed": false
   }
  },
  {
   "cell_type": "markdown",
   "source": [
    "#### XGBClassifier:"
   ],
   "metadata": {
    "collapsed": false
   }
  },
  {
   "cell_type": "code",
   "execution_count": 9,
   "outputs": [
    {
     "name": "stdout",
     "output_type": "stream",
     "text": [
      "--- XGBClassifier ---\n",
      "Mean forecast accuracy: 0.94\n"
     ]
    }
   ],
   "source": [
    "from xgboost import XGBClassifier\n",
    "\n",
    "\n",
    "modelClf_4 = XGBClassifier(booster = 'gbtree', learning_rate=0.02, n_estimators=20, random_state=100)\n",
    "modelClf_4.fit(X_train, y_train)\n",
    "modelScore_4 = modelClf_4.score(X_valid, y_valid)\n",
    "\n",
    "print('--- XGBClassifier ---')\n",
    "print(f'Mean forecast accuracy: {modelScore_4:.2f}')\n"
   ],
   "metadata": {
    "collapsed": false
   }
  },
  {
   "cell_type": "markdown",
   "source": [
    "### Comparison of algorithms:"
   ],
   "metadata": {
    "collapsed": false
   }
  },
  {
   "cell_type": "code",
   "execution_count": 13,
   "outputs": [
    {
     "name": "stdout",
     "output_type": "stream",
     "text": [
      "--- Comparison of algorithms ---\n",
      "\n",
      "               Models Scores\n",
      "0  StackingClassifier   0.95\n",
      "1   BaggingClassifier   0.96\n",
      "2  AdaBoostClassifier   0.95\n",
      "3       XGBClassifier   0.94\n"
     ]
    }
   ],
   "source": [
    "import pandas as pd\n",
    "\n",
    "print('--- Comparison of algorithms ---\\n')\n",
    "\n",
    "data = [['StackingClassifier', f'{modelScore_1:.2f}'],\n",
    "        ['BaggingClassifier', f'{modelScore_2:.2f}'],\n",
    "        ['AdaBoostClassifier', f'{modelScore_3:.2f}'],\n",
    "        ['XGBClassifier', f'{modelScore_4:.2f}']]\n",
    "\n",
    "# Create the pandas DataFrame\n",
    "df = pd.DataFrame(data, columns=['Models', 'Scores'])\n",
    "\n",
    "print(df)\n"
   ],
   "metadata": {
    "collapsed": false
   }
  },
  {
   "cell_type": "code",
   "execution_count": null,
   "outputs": [],
   "source": [],
   "metadata": {
    "collapsed": false
   }
  }
 ],
 "metadata": {
  "kernelspec": {
   "display_name": "Python 3",
   "language": "python",
   "name": "python3"
  },
  "language_info": {
   "codemirror_mode": {
    "name": "ipython",
    "version": 2
   },
   "file_extension": ".py",
   "mimetype": "text/x-python",
   "name": "python",
   "nbconvert_exporter": "python",
   "pygments_lexer": "ipython2",
   "version": "2.7.6"
  }
 },
 "nbformat": 4,
 "nbformat_minor": 0
}
